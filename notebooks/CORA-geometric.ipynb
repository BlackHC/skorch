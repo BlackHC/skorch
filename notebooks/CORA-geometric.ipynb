{
 "cells": [
  {
   "cell_type": "markdown",
   "id": "93e10022",
   "metadata": {},
   "source": [
    "# torch geometric + skorch @ CORA dataset"
   ]
  },
  {
   "cell_type": "code",
   "execution_count": 1,
   "id": "f8b30bc0",
   "metadata": {},
   "outputs": [
    {
     "name": "stdout",
     "output_type": "stream",
     "text": [
      "Di 21. Jun 15:04:50 CEST 2022\r\n"
     ]
    }
   ],
   "source": [
    "!date"
   ]
  },
  {
   "cell_type": "markdown",
   "id": "4e144398",
   "metadata": {},
   "source": [
    "This is an example for how to use skorch with [torch geometric](https://pytorch-geometric.readthedocs.io/). The code is based on the [introduction example](https://pytorch-geometric.readthedocs.io/en/latest/notes/introduction.html) but modified to have a proper train/valid/test split. This example is showcasing a quite small data set that does not need to employ batching to be trained efficiently. How to do batching with skorch + torch geometric will not be handled here.\n",
    "\n",
    "Dependencies of this notebook besides skorch base installation:"
   ]
  },
  {
   "cell_type": "raw",
   "id": "ac7d2260",
   "metadata": {},
   "source": [
    "!pip install torch_geometric==2.0.4"
   ]
  },
  {
   "cell_type": "markdown",
   "id": "ff707ef1",
   "metadata": {},
   "source": [
    "---"
   ]
  },
  {
   "cell_type": "code",
   "execution_count": 2,
   "id": "efa2b5a5",
   "metadata": {},
   "outputs": [],
   "source": [
    "import skorch\n",
    "import torch"
   ]
  },
  {
   "cell_type": "markdown",
   "id": "934fa438",
   "metadata": {},
   "source": [
    "### Data Loading"
   ]
  },
  {
   "cell_type": "code",
   "execution_count": 3,
   "id": "f1505f8f",
   "metadata": {},
   "outputs": [],
   "source": [
    "from torch_geometric.datasets import Planetoid\n",
    "\n",
    "dataset = Planetoid(root='/tmp/Cora', name='Cora')"
   ]
  },
  {
   "cell_type": "code",
   "execution_count": 4,
   "id": "4979ba6f",
   "metadata": {},
   "outputs": [
    {
     "data": {
      "text/plain": [
       "(Data(x=[2708, 1433], edge_index=[2, 10556], y=[2708], train_mask=[2708], val_mask=[2708], test_mask=[2708]),\n",
       " 7)"
      ]
     },
     "execution_count": 4,
     "metadata": {},
     "output_type": "execute_result"
    }
   ],
   "source": [
    "dataset.data, dataset.num_classes"
   ]
  },
  {
   "cell_type": "markdown",
   "id": "9cd7e104",
   "metadata": {},
   "source": [
    "In order to use pytorch geometric / the cora dataset with skorch\n",
    "we need to address the following things:\n",
    "    \n",
    "1. graph convolutions cannot handle missing nodes (=> splitting node attributes but keeping edge_index intact will lead to errors)\n",
    "2. cora dataset has different attributes for the different split masks (i.e. `train_mask`, `val_mask`, `test_mask`)\n",
    "3. skorch expects to have (X, y) pairs for classification tasks\n",
    "\n",
    "To deal with (1) we will split the data into three datasets, creating three sub-graphs in the process; these complete sub-graphs can then be convolved over without errors. \n",
    "We use the masks mentioned in (2) to identify the nodes and edges of the subgraphs.\n",
    "\n",
    "(3) will be handled by specifying our own `XYDataset` which will just have length 1 and return the dataset and the respective y values. We will therefore basically simulate a `batch_size=1` scenario."
   ]
  },
  {
   "cell_type": "code",
   "execution_count": 5,
   "id": "35aa1770",
   "metadata": {},
   "outputs": [],
   "source": [
    "from torch_geometric.data import Data\n",
    "\n",
    "# simulating batch_size=1 by returning the whole dataset and the\n",
    "# y-values. this way, the data loader can iterate over the 'batches'\n",
    "# and produce X/y values for us.\n",
    "class XYDataset(torch.utils.data.Dataset):\n",
    "    def __init__(self, data: Data, y: torch.tensor):\n",
    "        self.data = data\n",
    "        self.y = y\n",
    "        \n",
    "    def __len__(self):\n",
    "        return 1\n",
    "        \n",
    "    def __getitem__(self, i):\n",
    "        return self.data, self.y"
   ]
  },
  {
   "cell_type": "markdown",
   "id": "7cd78cd1",
   "metadata": {},
   "source": [
    "### Data Splitting"
   ]
  },
  {
   "cell_type": "markdown",
   "id": "468d8d6f",
   "metadata": {},
   "source": [
    "Split the graph into train, validation and test sub-graphs.\n",
    "This ensures that there will be no leakage between steps when we apply graph\n",
    "convolution operators on the graph.\n",
    "\n",
    "We use `relabel_nodes=True` to re-index the edges when the mask starts in the\n",
    "middle of the node tensor. Without this flag a mask like `[0, 1, 0]` will assume\n",
    "that `nodes[1]` exists but our mask forbids this: `nodes = all_nodes[[0, 1, 0]] == [<node_1>]`."
   ]
  },
  {
   "cell_type": "code",
   "execution_count": 6,
   "id": "f3d908e4",
   "metadata": {},
   "outputs": [],
   "source": [
    "from torch_geometric.utils import subgraph\n",
    "\n",
    "data = dataset[0]\n",
    "\n",
    "edge_index_train, _ = subgraph(\n",
    "    subset=data.train_mask, \n",
    "    edge_index=data.edge_index, \n",
    "    relabel_nodes=True\n",
    ")\n",
    "ds_train = XYDataset(\n",
    "    Data(x=data.x[data.train_mask], edge_index=edge_index_train),\n",
    "    data.y[data.train_mask],\n",
    ")\n",
    "\n",
    "edge_index_valid, _ = subgraph(\n",
    "    subset=data.val_mask, \n",
    "    edge_index=data.edge_index, \n",
    "    relabel_nodes=True\n",
    ")\n",
    "ds_valid = XYDataset(\n",
    "    Data(x=data.x[data.val_mask], edge_index=edge_index_valid),\n",
    "    data.y[data.val_mask],\n",
    ")\n",
    "\n",
    "edge_index_test, _ = subgraph(\n",
    "    subset=data.test_mask, \n",
    "    edge_index=data.edge_index, \n",
    "    relabel_nodes=True\n",
    ")\n",
    "ds_test = XYDataset(\n",
    "    Data(x=data.x[data.test_mask], edge_index=edge_index_test),\n",
    "    data.y[data.test_mask],\n",
    ")"
   ]
  },
  {
   "cell_type": "markdown",
   "id": "bf59f7a9",
   "metadata": {},
   "source": [
    "### Data Feeding"
   ]
  },
  {
   "cell_type": "markdown",
   "id": "4d23039d",
   "metadata": {},
   "source": [
    "Our \"batch\" consists of the whole dataset so if we unpack the\n",
    "batch into `(X, y)` we will have `X = Data(...)` and `y = [y_true]`.\n",
    "The `DataLoader` does not modify `X` but `y` gets a new batch dimension.\n",
    "This will lead to a shape mismatch as `y.shape` would then be `(1, #num_samples)`. Therefore, we need our own loader that strips the first dimension to \n",
    "match the predicted `y` and the labelled `y` in length."
   ]
  },
  {
   "cell_type": "code",
   "execution_count": 7,
   "id": "83594638",
   "metadata": {},
   "outputs": [],
   "source": [
    "from torch_geometric.loader import DataLoader\n",
    "\n",
    "class RawLoader(DataLoader):\n",
    "    def __iter__(self):\n",
    "        it = super().__iter__()\n",
    "        for X, y in it:\n",
    "            yield X, y[0]"
   ]
  },
  {
   "cell_type": "markdown",
   "id": "d51e7140",
   "metadata": {},
   "source": [
    "### Modelling"
   ]
  },
  {
   "cell_type": "markdown",
   "id": "67e6ff9e",
   "metadata": {},
   "source": [
    "This is the CORA example module as seen in the [torch geometric introduction](https://pytorch-geometric.readthedocs.io/en/latest/notes/introduction.html)."
   ]
  },
  {
   "cell_type": "code",
   "execution_count": 8,
   "id": "10de0020",
   "metadata": {},
   "outputs": [],
   "source": [
    "import torch\n",
    "import torch.nn.functional as F\n",
    "from torch_geometric.nn import GCNConv\n",
    "\n",
    "class GCN(torch.nn.Module):\n",
    "    def __init__(self):\n",
    "        super().__init__()\n",
    "        self.conv1 = GCNConv(dataset.num_node_features, 16)\n",
    "        self.conv2 = GCNConv(16, dataset.num_classes)\n",
    "\n",
    "    def forward(self, data):        \n",
    "        x, edge_index = data.x, data.edge_index\n",
    "\n",
    "        x = self.conv1(x, edge_index)\n",
    "        x = F.relu(x)\n",
    "        x = F.dropout(x, training=self.training)\n",
    "        x = self.conv2(x, edge_index)\n",
    "\n",
    "        return F.softmax(x, dim=1)"
   ]
  },
  {
   "cell_type": "markdown",
   "id": "f58e93d8",
   "metadata": {},
   "source": [
    "### Fitting"
   ]
  },
  {
   "cell_type": "code",
   "execution_count": 9,
   "id": "b3f5ef3c",
   "metadata": {},
   "outputs": [],
   "source": [
    "from skorch.helper import predefined_split\n",
    "\n",
    "torch.manual_seed(42)\n",
    "\n",
    "net = skorch.NeuralNetClassifier(\n",
    "    module=GCN,\n",
    "    lr=0.1,\n",
    "    optimizer__weight_decay=5e-4,\n",
    "    max_epochs=200,\n",
    "    train_split=skorch.helper.predefined_split(ds_valid),\n",
    "    batch_size=1,\n",
    "    iterator_train=RawLoader,\n",
    "    iterator_valid=RawLoader,\n",
    ")"
   ]
  },
  {
   "cell_type": "code",
   "execution_count": 10,
   "id": "c2cf8bbd",
   "metadata": {
    "scrolled": false
   },
   "outputs": [
    {
     "name": "stdout",
     "output_type": "stream",
     "text": [
      "  epoch    train_loss    valid_acc    valid_loss     dur\n",
      "-------  ------------  -----------  ------------  ------\n",
      "      1        \u001b[36m1.9659\u001b[0m       \u001b[32m0.1620\u001b[0m        \u001b[35m1.9380\u001b[0m  0.1744\n",
      "      2        \u001b[36m1.9286\u001b[0m       \u001b[32m0.1640\u001b[0m        \u001b[35m1.9361\u001b[0m  0.0062\n",
      "      3        1.9395       0.1640        \u001b[35m1.9333\u001b[0m  0.0062\n",
      "      4        \u001b[36m1.9249\u001b[0m       \u001b[32m0.1780\u001b[0m        \u001b[35m1.9311\u001b[0m  0.0067\n",
      "      5        \u001b[36m1.9008\u001b[0m       \u001b[32m0.1880\u001b[0m        \u001b[35m1.9292\u001b[0m  0.0066\n",
      "      6        \u001b[36m1.8900\u001b[0m       0.1860        \u001b[35m1.9276\u001b[0m  0.0059\n",
      "      7        \u001b[36m1.8748\u001b[0m       \u001b[32m0.1900\u001b[0m        \u001b[35m1.9261\u001b[0m  0.0098\n",
      "      8        \u001b[36m1.8742\u001b[0m       \u001b[32m0.1940\u001b[0m        \u001b[35m1.9244\u001b[0m  0.0063\n",
      "      9        \u001b[36m1.8715\u001b[0m       0.1900        \u001b[35m1.9227\u001b[0m  0.0093\n",
      "     10        \u001b[36m1.8554\u001b[0m       \u001b[32m0.2000\u001b[0m        \u001b[35m1.9201\u001b[0m  0.0063\n",
      "     11        \u001b[36m1.8497\u001b[0m       \u001b[32m0.2100\u001b[0m        \u001b[35m1.9173\u001b[0m  0.0085\n",
      "     12        \u001b[36m1.8421\u001b[0m       \u001b[32m0.2140\u001b[0m        \u001b[35m1.9146\u001b[0m  0.0068\n",
      "     13        \u001b[36m1.8155\u001b[0m       0.2140        \u001b[35m1.9122\u001b[0m  0.0074\n",
      "     14        1.8206       \u001b[32m0.2200\u001b[0m        \u001b[35m1.9101\u001b[0m  0.0065\n",
      "     15        1.8275       0.2140        \u001b[35m1.9072\u001b[0m  0.0074\n",
      "     16        1.8165       \u001b[32m0.2220\u001b[0m        \u001b[35m1.9050\u001b[0m  0.0074\n",
      "     17        \u001b[36m1.7948\u001b[0m       0.2220        \u001b[35m1.9018\u001b[0m  0.0073\n",
      "     18        \u001b[36m1.7784\u001b[0m       \u001b[32m0.2280\u001b[0m        \u001b[35m1.8987\u001b[0m  0.0068\n",
      "     19        \u001b[36m1.7709\u001b[0m       \u001b[32m0.2300\u001b[0m        \u001b[35m1.8966\u001b[0m  0.0066\n",
      "     20        1.7712       \u001b[32m0.2340\u001b[0m        \u001b[35m1.8941\u001b[0m  0.0071\n",
      "     21        \u001b[36m1.7370\u001b[0m       0.2340        \u001b[35m1.8912\u001b[0m  0.0074\n",
      "     22        1.7756       0.2320        \u001b[35m1.8886\u001b[0m  0.0069\n",
      "     23        1.7419       \u001b[32m0.2380\u001b[0m        \u001b[35m1.8864\u001b[0m  0.0064\n",
      "     24        \u001b[36m1.7358\u001b[0m       \u001b[32m0.2420\u001b[0m        \u001b[35m1.8833\u001b[0m  0.0071\n",
      "     25        1.7479       \u001b[32m0.2500\u001b[0m        \u001b[35m1.8806\u001b[0m  0.0076\n",
      "     26        \u001b[36m1.7270\u001b[0m       \u001b[32m0.2520\u001b[0m        \u001b[35m1.8784\u001b[0m  0.0084\n",
      "     27        \u001b[36m1.6930\u001b[0m       \u001b[32m0.2620\u001b[0m        \u001b[35m1.8746\u001b[0m  0.0072\n",
      "     28        1.6946       \u001b[32m0.2660\u001b[0m        \u001b[35m1.8703\u001b[0m  0.0085\n",
      "     29        \u001b[36m1.6879\u001b[0m       0.2620        \u001b[35m1.8682\u001b[0m  0.0072\n",
      "     30        1.6928       0.2640        \u001b[35m1.8656\u001b[0m  0.0076\n",
      "     31        1.6902       0.2640        \u001b[35m1.8617\u001b[0m  0.0074\n",
      "     32        \u001b[36m1.6612\u001b[0m       0.2540        \u001b[35m1.8590\u001b[0m  0.0069\n",
      "     33        \u001b[36m1.6379\u001b[0m       0.2640        \u001b[35m1.8563\u001b[0m  0.0068\n",
      "     34        \u001b[36m1.6360\u001b[0m       \u001b[32m0.2740\u001b[0m        \u001b[35m1.8524\u001b[0m  0.0074\n",
      "     35        \u001b[36m1.6216\u001b[0m       \u001b[32m0.2800\u001b[0m        \u001b[35m1.8489\u001b[0m  0.0066\n",
      "     36        1.6563       \u001b[32m0.2840\u001b[0m        \u001b[35m1.8459\u001b[0m  0.0065\n",
      "     37        1.6321       \u001b[32m0.2960\u001b[0m        \u001b[35m1.8430\u001b[0m  0.0067\n",
      "     38        \u001b[36m1.6134\u001b[0m       \u001b[32m0.2980\u001b[0m        \u001b[35m1.8394\u001b[0m  0.0079\n",
      "     39        \u001b[36m1.6074\u001b[0m       0.2980        \u001b[35m1.8377\u001b[0m  0.0080\n",
      "     40        \u001b[36m1.5596\u001b[0m       \u001b[32m0.3020\u001b[0m        \u001b[35m1.8335\u001b[0m  0.0072\n",
      "     41        1.5783       \u001b[32m0.3040\u001b[0m        \u001b[35m1.8301\u001b[0m  0.0066\n",
      "     42        \u001b[36m1.5340\u001b[0m       \u001b[32m0.3060\u001b[0m        \u001b[35m1.8276\u001b[0m  0.0063\n",
      "     43        1.5659       \u001b[32m0.3140\u001b[0m        \u001b[35m1.8241\u001b[0m  0.0069\n",
      "     44        \u001b[36m1.5010\u001b[0m       \u001b[32m0.3280\u001b[0m        \u001b[35m1.8195\u001b[0m  0.0065\n",
      "     45        1.5131       \u001b[32m0.3300\u001b[0m        \u001b[35m1.8166\u001b[0m  0.0062\n",
      "     46        \u001b[36m1.4980\u001b[0m       \u001b[32m0.3340\u001b[0m        \u001b[35m1.8127\u001b[0m  0.0062\n",
      "     47        1.5246       \u001b[32m0.3400\u001b[0m        \u001b[35m1.8094\u001b[0m  0.0060\n",
      "     48        1.5106       \u001b[32m0.3420\u001b[0m        \u001b[35m1.8066\u001b[0m  0.0063\n",
      "     49        1.5101       \u001b[32m0.3500\u001b[0m        \u001b[35m1.8032\u001b[0m  0.0066\n",
      "     50        \u001b[36m1.4888\u001b[0m       \u001b[32m0.3520\u001b[0m        \u001b[35m1.7998\u001b[0m  0.0065\n",
      "     51        \u001b[36m1.4591\u001b[0m       \u001b[32m0.3640\u001b[0m        \u001b[35m1.7969\u001b[0m  0.0069\n",
      "     52        1.4993       \u001b[32m0.3660\u001b[0m        \u001b[35m1.7946\u001b[0m  0.0072\n",
      "     53        1.4803       \u001b[32m0.3760\u001b[0m        \u001b[35m1.7909\u001b[0m  0.0065\n",
      "     54        \u001b[36m1.4442\u001b[0m       \u001b[32m0.3840\u001b[0m        \u001b[35m1.7858\u001b[0m  0.0064\n",
      "     55        1.4480       \u001b[32m0.3980\u001b[0m        \u001b[35m1.7836\u001b[0m  0.0066\n",
      "     56        \u001b[36m1.4204\u001b[0m       \u001b[32m0.4000\u001b[0m        \u001b[35m1.7784\u001b[0m  0.0066\n",
      "     57        \u001b[36m1.3968\u001b[0m       0.3960        \u001b[35m1.7761\u001b[0m  0.0066\n",
      "     58        \u001b[36m1.3669\u001b[0m       \u001b[32m0.4100\u001b[0m        \u001b[35m1.7721\u001b[0m  0.0060\n",
      "     59        1.4043       \u001b[32m0.4140\u001b[0m        \u001b[35m1.7684\u001b[0m  0.0065\n",
      "     60        1.3997       \u001b[32m0.4180\u001b[0m        \u001b[35m1.7645\u001b[0m  0.0062\n",
      "     61        \u001b[36m1.3579\u001b[0m       0.4120        \u001b[35m1.7605\u001b[0m  0.0066\n",
      "     62        \u001b[36m1.3489\u001b[0m       \u001b[32m0.4240\u001b[0m        \u001b[35m1.7577\u001b[0m  0.0074\n",
      "     63        1.3591       0.4220        \u001b[35m1.7532\u001b[0m  0.0071\n",
      "     64        1.4029       0.4240        \u001b[35m1.7498\u001b[0m  0.0062\n",
      "     65        1.3672       \u001b[32m0.4260\u001b[0m        \u001b[35m1.7439\u001b[0m  0.0061\n",
      "     66        \u001b[36m1.3081\u001b[0m       \u001b[32m0.4280\u001b[0m        \u001b[35m1.7403\u001b[0m  0.0061\n",
      "     67        1.3654       0.4260        \u001b[35m1.7355\u001b[0m  0.0062\n",
      "     68        1.3166       \u001b[32m0.4340\u001b[0m        \u001b[35m1.7326\u001b[0m  0.0061\n",
      "     69        1.3307       \u001b[32m0.4380\u001b[0m        \u001b[35m1.7291\u001b[0m  0.0061\n",
      "     70        \u001b[36m1.2918\u001b[0m       \u001b[32m0.4440\u001b[0m        \u001b[35m1.7261\u001b[0m  0.0061\n",
      "     71        \u001b[36m1.2555\u001b[0m       \u001b[32m0.4460\u001b[0m        \u001b[35m1.7215\u001b[0m  0.0063\n",
      "     72        1.2723       0.4440        \u001b[35m1.7175\u001b[0m  0.0065\n",
      "     73        1.3018       \u001b[32m0.4480\u001b[0m        \u001b[35m1.7133\u001b[0m  0.0062\n",
      "     74        1.2618       \u001b[32m0.4520\u001b[0m        \u001b[35m1.7088\u001b[0m  0.0070\n",
      "     75        1.2653       0.4460        \u001b[35m1.7054\u001b[0m  0.0075\n",
      "     76        \u001b[36m1.2415\u001b[0m       0.4480        \u001b[35m1.7005\u001b[0m  0.0070\n",
      "     77        1.2647       \u001b[32m0.4620\u001b[0m        \u001b[35m1.6967\u001b[0m  0.0062\n",
      "     78        \u001b[36m1.2124\u001b[0m       \u001b[32m0.4660\u001b[0m        \u001b[35m1.6913\u001b[0m  0.0063\n",
      "     79        1.2216       \u001b[32m0.4720\u001b[0m        \u001b[35m1.6870\u001b[0m  0.0062\n",
      "     80        1.2192       \u001b[32m0.4740\u001b[0m        \u001b[35m1.6834\u001b[0m  0.0062\n",
      "     81        \u001b[36m1.1580\u001b[0m       0.4740        \u001b[35m1.6801\u001b[0m  0.0062\n",
      "     82        \u001b[36m1.1166\u001b[0m       \u001b[32m0.4760\u001b[0m        \u001b[35m1.6758\u001b[0m  0.0065\n",
      "     83        1.1823       \u001b[32m0.4780\u001b[0m        \u001b[35m1.6715\u001b[0m  0.0072\n",
      "     84        1.1905       \u001b[32m0.4900\u001b[0m        \u001b[35m1.6669\u001b[0m  0.0068\n",
      "     85        \u001b[36m1.1068\u001b[0m       0.4900        \u001b[35m1.6633\u001b[0m  0.0170\n",
      "     86        \u001b[36m1.0972\u001b[0m       \u001b[32m0.4940\u001b[0m        \u001b[35m1.6573\u001b[0m  0.0110\n",
      "     87        1.1711       \u001b[32m0.4980\u001b[0m        \u001b[35m1.6554\u001b[0m  0.0089\n",
      "     88        1.1307       0.4980        \u001b[35m1.6504\u001b[0m  0.0072\n",
      "     89        \u001b[36m1.0547\u001b[0m       \u001b[32m0.5020\u001b[0m        \u001b[35m1.6459\u001b[0m  0.0068\n",
      "     90        1.1255       0.5000        \u001b[35m1.6409\u001b[0m  0.0071\n",
      "     91        1.0594       \u001b[32m0.5040\u001b[0m        \u001b[35m1.6372\u001b[0m  0.0066\n",
      "     92        1.1300       \u001b[32m0.5100\u001b[0m        \u001b[35m1.6317\u001b[0m  0.0061\n",
      "     93        1.0988       \u001b[32m0.5120\u001b[0m        \u001b[35m1.6290\u001b[0m  0.0064\n",
      "     94        \u001b[36m1.0492\u001b[0m       0.5100        \u001b[35m1.6251\u001b[0m  0.0063\n",
      "     95        1.0698       \u001b[32m0.5160\u001b[0m        \u001b[35m1.6196\u001b[0m  0.0077\n",
      "     96        \u001b[36m1.0099\u001b[0m       \u001b[32m0.5220\u001b[0m        \u001b[35m1.6140\u001b[0m  0.0087\n",
      "     97        1.0835       0.5180        \u001b[35m1.6117\u001b[0m  0.0081\n",
      "     98        1.0613       0.5200        \u001b[35m1.6081\u001b[0m  0.0067\n",
      "     99        1.0391       \u001b[32m0.5240\u001b[0m        \u001b[35m1.6039\u001b[0m  0.0072\n",
      "    100        1.1177       0.5200        \u001b[35m1.6006\u001b[0m  0.0075\n",
      "    101        1.0404       0.5220        \u001b[35m1.5972\u001b[0m  0.0077\n",
      "    102        1.0133       \u001b[32m0.5260\u001b[0m        \u001b[35m1.5917\u001b[0m  0.0066\n",
      "    103        \u001b[36m0.9971\u001b[0m       \u001b[32m0.5280\u001b[0m        \u001b[35m1.5888\u001b[0m  0.0073\n",
      "    104        \u001b[36m0.9611\u001b[0m       \u001b[32m0.5320\u001b[0m        \u001b[35m1.5846\u001b[0m  0.0070\n",
      "    105        \u001b[36m0.9147\u001b[0m       0.5320        \u001b[35m1.5816\u001b[0m  0.0073\n",
      "    106        0.9746       0.5300        \u001b[35m1.5774\u001b[0m  0.0068\n"
     ]
    },
    {
     "name": "stdout",
     "output_type": "stream",
     "text": [
      "    107        0.9672       0.5320        \u001b[35m1.5743\u001b[0m  0.0071\n",
      "    108        0.9656       \u001b[32m0.5360\u001b[0m        \u001b[35m1.5719\u001b[0m  0.0073\n",
      "    109        1.0130       0.5340        \u001b[35m1.5680\u001b[0m  0.0072\n",
      "    110        0.9821       \u001b[32m0.5380\u001b[0m        \u001b[35m1.5630\u001b[0m  0.0070\n",
      "    111        0.9151       0.5360        \u001b[35m1.5598\u001b[0m  0.0077\n",
      "    112        \u001b[36m0.8390\u001b[0m       0.5360        \u001b[35m1.5549\u001b[0m  0.0093\n",
      "    113        0.9395       \u001b[32m0.5420\u001b[0m        \u001b[35m1.5505\u001b[0m  0.0074\n",
      "    114        0.9234       \u001b[32m0.5440\u001b[0m        \u001b[35m1.5465\u001b[0m  0.0069\n",
      "    115        0.9149       0.5420        \u001b[35m1.5425\u001b[0m  0.0072\n",
      "    116        0.9710       0.5400        \u001b[35m1.5399\u001b[0m  0.0071\n",
      "    117        0.9081       0.5400        \u001b[35m1.5393\u001b[0m  0.0086\n",
      "    118        0.9285       0.5380        \u001b[35m1.5347\u001b[0m  0.0063\n",
      "    119        0.8962       0.5440        \u001b[35m1.5320\u001b[0m  0.0080\n",
      "    120        0.9140       0.5420        \u001b[35m1.5285\u001b[0m  0.0066\n",
      "    121        0.8729       \u001b[32m0.5460\u001b[0m        \u001b[35m1.5242\u001b[0m  0.0075\n",
      "    122        0.8770       0.5400        \u001b[35m1.5219\u001b[0m  0.0077\n",
      "    123        0.8922       \u001b[32m0.5520\u001b[0m        \u001b[35m1.5180\u001b[0m  0.0073\n",
      "    124        0.8534       0.5460        \u001b[35m1.5161\u001b[0m  0.0080\n",
      "    125        0.8476       0.5520        \u001b[35m1.5092\u001b[0m  0.0077\n",
      "    126        0.9047       0.5520        \u001b[35m1.5058\u001b[0m  0.0076\n",
      "    127        \u001b[36m0.8089\u001b[0m       0.5480        \u001b[35m1.5046\u001b[0m  0.0066\n",
      "    128        0.8734       0.5500        \u001b[35m1.5015\u001b[0m  0.0074\n",
      "    129        0.8506       \u001b[32m0.5540\u001b[0m        \u001b[35m1.4975\u001b[0m  0.0069\n",
      "    130        0.8230       0.5540        \u001b[35m1.4946\u001b[0m  0.0075\n",
      "    131        \u001b[36m0.7985\u001b[0m       0.5540        \u001b[35m1.4900\u001b[0m  0.0093\n",
      "    132        0.8636       \u001b[32m0.5580\u001b[0m        \u001b[35m1.4891\u001b[0m  0.0073\n",
      "    133        0.8238       0.5580        \u001b[35m1.4844\u001b[0m  0.0066\n",
      "    134        \u001b[36m0.7810\u001b[0m       \u001b[32m0.5600\u001b[0m        \u001b[35m1.4820\u001b[0m  0.0061\n",
      "    135        0.8755       0.5600        \u001b[35m1.4792\u001b[0m  0.0066\n",
      "    136        0.8143       0.5580        \u001b[35m1.4761\u001b[0m  0.0063\n",
      "    137        0.8134       0.5600        \u001b[35m1.4725\u001b[0m  0.0067\n",
      "    138        0.8288       \u001b[32m0.5620\u001b[0m        \u001b[35m1.4714\u001b[0m  0.0066\n",
      "    139        0.8095       0.5600        \u001b[35m1.4695\u001b[0m  0.0065\n",
      "    140        \u001b[36m0.7792\u001b[0m       0.5600        \u001b[35m1.4666\u001b[0m  0.0076\n",
      "    141        \u001b[36m0.7747\u001b[0m       \u001b[32m0.5660\u001b[0m        \u001b[35m1.4646\u001b[0m  0.0071\n",
      "    142        \u001b[36m0.7375\u001b[0m       0.5660        \u001b[35m1.4606\u001b[0m  0.0071\n",
      "    143        0.8205       \u001b[32m0.5720\u001b[0m        \u001b[35m1.4577\u001b[0m  0.0068\n",
      "    144        0.7945       0.5700        \u001b[35m1.4561\u001b[0m  0.0069\n",
      "    145        0.7934       0.5680        \u001b[35m1.4551\u001b[0m  0.0071\n",
      "    146        \u001b[36m0.7044\u001b[0m       0.5660        \u001b[35m1.4501\u001b[0m  0.0074\n",
      "    147        0.7447       0.5680        \u001b[35m1.4488\u001b[0m  0.0072\n",
      "    148        0.8395       0.5660        \u001b[35m1.4486\u001b[0m  0.0070\n",
      "    149        0.8077       0.5660        \u001b[35m1.4456\u001b[0m  0.0073\n",
      "    150        0.7555       0.5660        \u001b[35m1.4424\u001b[0m  0.0071\n",
      "    151        0.7340       0.5680        \u001b[35m1.4395\u001b[0m  0.0073\n",
      "    152        0.7571       0.5680        \u001b[35m1.4362\u001b[0m  0.0078\n",
      "    153        \u001b[36m0.6802\u001b[0m       0.5660        \u001b[35m1.4343\u001b[0m  0.0073\n",
      "    154        0.7739       0.5660        \u001b[35m1.4316\u001b[0m  0.0072\n",
      "    155        0.7414       0.5660        \u001b[35m1.4288\u001b[0m  0.0071\n",
      "    156        0.7475       0.5660        \u001b[35m1.4274\u001b[0m  0.0072\n",
      "    157        0.7376       0.5680        \u001b[35m1.4242\u001b[0m  0.0073\n",
      "    158        0.7045       0.5660        \u001b[35m1.4220\u001b[0m  0.0073\n",
      "    159        0.8076       0.5680        \u001b[35m1.4196\u001b[0m  0.0071\n",
      "    160        0.7094       0.5720        \u001b[35m1.4156\u001b[0m  0.0073\n",
      "    161        0.7091       0.5720        \u001b[35m1.4152\u001b[0m  0.0067\n",
      "    162        0.7714       0.5680        1.4154  0.0077\n",
      "    163        0.6879       \u001b[32m0.5760\u001b[0m        \u001b[35m1.4114\u001b[0m  0.0067\n",
      "    164        0.7088       0.5740        \u001b[35m1.4095\u001b[0m  0.0073\n",
      "    165        0.7036       0.5760        \u001b[35m1.4072\u001b[0m  0.0070\n",
      "    166        \u001b[36m0.6331\u001b[0m       0.5740        \u001b[35m1.4056\u001b[0m  0.0064\n",
      "    167        0.6961       0.5740        \u001b[35m1.4026\u001b[0m  0.0068\n",
      "    168        0.6787       0.5740        \u001b[35m1.4020\u001b[0m  0.0069\n",
      "    169        0.6620       0.5760        \u001b[35m1.3986\u001b[0m  0.0072\n",
      "    170        0.6767       0.5760        \u001b[35m1.3980\u001b[0m  0.0072\n",
      "    171        0.6663       0.5720        \u001b[35m1.3974\u001b[0m  0.0076\n",
      "    172        \u001b[36m0.5900\u001b[0m       0.5720        \u001b[35m1.3955\u001b[0m  0.0081\n",
      "    173        0.6731       0.5740        \u001b[35m1.3931\u001b[0m  0.0074\n",
      "    174        0.7121       0.5720        \u001b[35m1.3913\u001b[0m  0.0067\n",
      "    175        0.6490       0.5740        \u001b[35m1.3882\u001b[0m  0.0062\n",
      "    176        0.6253       0.5740        \u001b[35m1.3849\u001b[0m  0.0060\n",
      "    177        0.6121       0.5740        \u001b[35m1.3835\u001b[0m  0.0062\n",
      "    178        0.6331       0.5740        \u001b[35m1.3813\u001b[0m  0.0059\n",
      "    179        0.6628       0.5720        \u001b[35m1.3810\u001b[0m  0.0070\n",
      "    180        0.6165       0.5740        \u001b[35m1.3790\u001b[0m  0.0072\n",
      "    181        0.5927       0.5720        \u001b[35m1.3769\u001b[0m  0.0074\n",
      "    182        0.5952       0.5720        \u001b[35m1.3745\u001b[0m  0.0080\n",
      "    183        \u001b[36m0.5650\u001b[0m       0.5740        \u001b[35m1.3740\u001b[0m  0.0074\n",
      "    184        0.7050       0.5700        \u001b[35m1.3716\u001b[0m  0.0066\n",
      "    185        0.6149       0.5720        \u001b[35m1.3708\u001b[0m  0.0060\n",
      "    186        0.5872       \u001b[32m0.5780\u001b[0m        \u001b[35m1.3678\u001b[0m  0.0059\n",
      "    187        0.6876       0.5700        \u001b[35m1.3653\u001b[0m  0.0061\n",
      "    188        0.6151       0.5740        \u001b[35m1.3649\u001b[0m  0.0059\n",
      "    189        0.6035       0.5740        \u001b[35m1.3641\u001b[0m  0.0060\n",
      "    190        0.6302       0.5720        \u001b[35m1.3637\u001b[0m  0.0071\n",
      "    191        0.6218       \u001b[32m0.5800\u001b[0m        \u001b[35m1.3597\u001b[0m  0.0068\n",
      "    192        0.5813       0.5720        \u001b[35m1.3595\u001b[0m  0.0078\n",
      "    193        0.6559       0.5760        \u001b[35m1.3581\u001b[0m  0.0067\n",
      "    194        0.5938       0.5760        \u001b[35m1.3561\u001b[0m  0.0062\n",
      "    195        0.6327       0.5780        \u001b[35m1.3544\u001b[0m  0.0069\n",
      "    196        0.6192       0.5760        \u001b[35m1.3531\u001b[0m  0.0062\n",
      "    197        0.6347       0.5760        \u001b[35m1.3515\u001b[0m  0.0065\n",
      "    198        0.6515       0.5760        \u001b[35m1.3496\u001b[0m  0.0063\n",
      "    199        0.6065       0.5780        \u001b[35m1.3485\u001b[0m  0.0064\n",
      "    200        0.6256       0.5780        \u001b[35m1.3467\u001b[0m  0.0067\n"
     ]
    },
    {
     "data": {
      "text/plain": [
       "<class 'skorch.classifier.NeuralNetClassifier'>[initialized](\n",
       "  module_=GCN(\n",
       "    (conv1): GCNConv(1433, 16)\n",
       "    (conv2): GCNConv(16, 7)\n",
       "  ),\n",
       ")"
      ]
     },
     "execution_count": 10,
     "metadata": {},
     "output_type": "execute_result"
    }
   ],
   "source": [
    "net.fit(ds_train, None)"
   ]
  },
  {
   "cell_type": "markdown",
   "id": "fed65b00",
   "metadata": {},
   "source": [
    "### Evaluation"
   ]
  },
  {
   "cell_type": "code",
   "execution_count": 11,
   "id": "ae562c9e",
   "metadata": {},
   "outputs": [],
   "source": [
    "from sklearn.metrics import accuracy_score"
   ]
  },
  {
   "cell_type": "code",
   "execution_count": 13,
   "id": "ef5f2409",
   "metadata": {},
   "outputs": [
    {
     "data": {
      "text/plain": [
       "0.683"
      ]
     },
     "execution_count": 13,
     "metadata": {},
     "output_type": "execute_result"
    }
   ],
   "source": [
    "accuracy_score(ds_test.y, net.predict(ds_test))"
   ]
  }
 ],
 "metadata": {
  "kernelspec": {
   "display_name": "Python 3 (ipykernel)",
   "language": "python",
   "name": "python3"
  },
  "language_info": {
   "codemirror_mode": {
    "name": "ipython",
    "version": 3
   },
   "file_extension": ".py",
   "mimetype": "text/x-python",
   "name": "python",
   "nbconvert_exporter": "python",
   "pygments_lexer": "ipython3",
   "version": "3.10.4"
  }
 },
 "nbformat": 4,
 "nbformat_minor": 5
}
